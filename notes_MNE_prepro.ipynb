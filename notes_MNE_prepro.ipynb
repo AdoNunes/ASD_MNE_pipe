{
 "cells": [
  {
   "cell_type": "markdown",
   "metadata": {},
   "source": [
    "# MNE pipeline for CTF\n",
    "\n",
    "Notes about running the piepline"
   ]
  },
  {
   "cell_type": "markdown",
   "metadata": {},
   "source": [
    "## Test backend delays\n",
    "\n",
    "Mac OS computers have a napping app to save energy, however, some times python backends interfere with it and in each command python takes a several seconds nap. \n",
    "To avoid it, appnope can be imported and activated to disable the app nap.\n"
   ]
  },
  {
   "cell_type": "code",
   "execution_count": 1,
   "metadata": {},
   "outputs": [],
   "source": [
    "import time\n",
    "import sys"
   ]
  },
  {
   "cell_type": "code",
   "execution_count": 2,
   "metadata": {},
   "outputs": [
    {
     "name": "stdout",
     "output_type": "stream",
     "text": [
      "took 0.0058 instead of 0.0050\n"
     ]
    }
   ],
   "source": [
    "start = time.time()\n",
    "pause_for = 0.005\n",
    "time.sleep(pause_for)\n",
    "time_past = time.time() - start\n",
    "print(f'took {time_past:.4f} instead of {pause_for:.4f}')\n",
    "if time_past > pause_for*2:\n",
    "    print('Python is taking a nap, has to be woken up', file=sys.stderr)\n",
    "    import appnope\n",
    "    appnope.nope()\n",
    "    print('Deactivating app nap')"
   ]
  },
  {
   "cell_type": "markdown",
   "metadata": {},
   "source": [
    "# Run MNEprepro class"
   ]
  },
  {
   "cell_type": "code",
   "execution_count": 7,
   "metadata": {},
   "outputs": [],
   "source": [
    "from MNEprepro import MNEprepro"
   ]
  },
  {
   "cell_type": "markdown",
   "metadata": {},
   "source": [
    "## Set variables for running the prerocessing\n",
    "\n",
    "Necessary:\n",
    "* A dictionary with:\n",
    "    - root : path root dir\n",
    "    - meg : path root MEG dir\n",
    "    - subj_anat : path subject annatomy\n",
    "    - out : path to save outputs\n",
    "    \n",
    "* String variables with:\n",
    "    - subject = '18011014C'\n",
    "    - experiment = 'Movie'"
   ]
  },
  {
   "cell_type": "code",
   "execution_count": 10,
   "metadata": {},
   "outputs": [],
   "source": [
    "paths_dic = {\n",
    "        \"root\": \"~/Desktop/projects/MNE/data\",\n",
    "        \"meg\": \"MEG\",\n",
    "        \"subj_anat\": 'anatomy',\n",
    "        \"out\": \"~/Desktop/projects/MNE/data_prep\"\n",
    "    }\n",
    "\n",
    "subject = '18011014C'\n",
    "experiment = 'Movie'"
   ]
  },
  {
   "cell_type": "markdown",
   "metadata": {},
   "source": [
    "## Instantiate the class\n"
   ]
  },
  {
   "cell_type": "code",
   "execution_count": 11,
   "metadata": {},
   "outputs": [
    {
     "name": "stdout",
     "output_type": "stream",
     "text": [
      "ds directory : /Users/adonay/Desktop/projects/MNE/data/18011014C/18011014C_Movie_20190330_03.ds\n",
      "    res4 data read.\n",
      "    hc data read.\n",
      "    Separate EEG position data file read.\n",
      "    Quaternion matching (desired vs. transformed):\n",
      "      -4.26   74.66    0.00 mm <->   -4.26   74.66    0.00 mm (orig :  -51.73   58.36 -280.62 mm) diff =    0.000 mm\n",
      "       4.26  -74.66    0.00 mm <->    4.26  -74.66    0.00 mm (orig :   45.33  -55.43 -279.74 mm) diff =    0.000 mm\n",
      "      91.15    0.00    0.00 mm <->   91.15   -0.00    0.00 mm (orig :   62.79   51.22 -241.72 mm) diff =    0.000 mm\n",
      "    Coordinate transformations established.\n",
      "    Polhemus data for 3 HPI coils added\n",
      "    Device coordinate locations for 3 HPI coils added\n",
      "    Measurement info composed.\n",
      "Finding samples for /Users/adonay/Desktop/projects/MNE/data/18011014C/18011014C_Movie_20190330_03.ds/18011014C_Movie_20190330_03.meg4: \n",
      "    System clock channel is available, checking which samples are valid.\n",
      "    1 x 684000 = 684000 samples from 334 chs\n",
      "Current compensation grade : 0\n"
     ]
    }
   ],
   "source": [
    "raw_prepro = MNEprepro(subject, experiment, paths_dic)"
   ]
  },
  {
   "cell_type": "code",
   "execution_count": null,
   "metadata": {},
   "outputs": [],
   "source": []
  }
 ],
 "metadata": {
  "kernelspec": {
   "display_name": "Python 3",
   "language": "python",
   "name": "python3"
  },
  "language_info": {
   "codemirror_mode": {
    "name": "ipython",
    "version": 3
   },
   "file_extension": ".py",
   "mimetype": "text/x-python",
   "name": "python",
   "nbconvert_exporter": "python",
   "pygments_lexer": "ipython3",
   "version": "3.7.4"
  }
 },
 "nbformat": 4,
 "nbformat_minor": 2
}
